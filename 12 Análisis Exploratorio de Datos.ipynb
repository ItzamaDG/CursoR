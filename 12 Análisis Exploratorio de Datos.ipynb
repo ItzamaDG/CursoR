{
 "cells": [
  {
   "cell_type": "code",
   "execution_count": null,
   "id": "fb8aee67",
   "metadata": {},
   "outputs": [],
   "source": [
    "#Sacar conclusiones de las preguntas que surjan.\n",
    "#Primero necesitamos generar esas preguntas\n",
    "#Para esto usar dplyr y ggploy"
   ]
  },
  {
   "cell_type": "markdown",
   "id": "53b65f29",
   "metadata": {},
   "source": [
    "Resumenes estadisticos\n",
    "Distribuciones de frecuencias\n",
    "Percentiles y Boxplots\n",
    "Correlacion y dispersion\n"
   ]
  },
  {
   "cell_type": "code",
   "execution_count": null,
   "id": "7897586a",
   "metadata": {},
   "outputs": [],
   "source": [
    "#1Estadisticas\n",
    "#Conteo, numero de mediciones\n",
    "#Media,mediana, moda\n",
    "#Desviacion estandar, minimo y maximo\n",
    "#Lo anterior puede hacerse summary(dataframe)\n",
    "\n",
    "#Histogramas para la distribucion de la variable interesada\n",
    "\n",
    "#Podemos usar boxplot y graficas violin\n",
    "\n",
    "#pairs hace una grafica de dispersion de todos contra todos."
   ]
  }
 ],
 "metadata": {
  "kernelspec": {
   "display_name": "R",
   "language": "R",
   "name": "ir"
  },
  "language_info": {
   "codemirror_mode": "r",
   "file_extension": ".r",
   "mimetype": "text/x-r-source",
   "name": "R",
   "pygments_lexer": "r",
   "version": "3.6.1"
  }
 },
 "nbformat": 4,
 "nbformat_minor": 5
}
