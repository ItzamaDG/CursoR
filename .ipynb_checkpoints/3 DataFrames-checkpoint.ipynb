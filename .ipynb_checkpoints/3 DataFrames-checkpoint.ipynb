{
 "cells": [
  {
   "cell_type": "code",
   "execution_count": null,
   "id": "ab4fa714",
   "metadata": {},
   "outputs": [],
   "source": [
    "#Creacion de dataframes con vectores"
   ]
  },
  {
   "cell_type": "code",
   "execution_count": 2,
   "id": "d294fff8",
   "metadata": {},
   "outputs": [],
   "source": [
    "nombre <- c(\"Shrek\", \"Shrek 2\", \"Shrek Tercero\", \"Shrek: Felices por siempre\")\n",
    "puntuacion <- c(7.9, 7.2, 6.1, 6.3)\n",
    "posterior_2005 <- c(FALSE, FALSE, TRUE, TRUE)"
   ]
  },
  {
   "cell_type": "code",
   "execution_count": 7,
   "id": "24499c37",
   "metadata": {},
   "outputs": [
    {
     "data": {
      "text/html": [
       "<table class=\"dataframe\">\n",
       "<caption>A data.frame: 4 × 3</caption>\n",
       "<thead>\n",
       "\t<tr><th></th><th scope=col>nombre</th><th scope=col>puntuacion</th><th scope=col>posterior_2005</th></tr>\n",
       "\t<tr><th></th><th scope=col>&lt;fct&gt;</th><th scope=col>&lt;dbl&gt;</th><th scope=col>&lt;lgl&gt;</th></tr>\n",
       "</thead>\n",
       "<tbody>\n",
       "\t<tr><th scope=row>1</th><td>Shrek                     </td><td>7.9</td><td>FALSE</td></tr>\n",
       "\t<tr><th scope=row>2</th><td>Shrek 2                   </td><td>7.2</td><td>FALSE</td></tr>\n",
       "\t<tr><th scope=row>3</th><td>Shrek Tercero             </td><td>6.1</td><td> TRUE</td></tr>\n",
       "\t<tr><th scope=row>4</th><td>Shrek: Felices por siempre</td><td>6.3</td><td> TRUE</td></tr>\n",
       "</tbody>\n",
       "</table>\n"
      ],
      "text/latex": [
       "A data.frame: 4 × 3\n",
       "\\begin{tabular}{r|lll}\n",
       "  & nombre & puntuacion & posterior\\_2005\\\\\n",
       "  & <fct> & <dbl> & <lgl>\\\\\n",
       "\\hline\n",
       "\t1 & Shrek                      & 7.9 & FALSE\\\\\n",
       "\t2 & Shrek 2                    & 7.2 & FALSE\\\\\n",
       "\t3 & Shrek Tercero              & 6.1 &  TRUE\\\\\n",
       "\t4 & Shrek: Felices por siempre & 6.3 &  TRUE\\\\\n",
       "\\end{tabular}\n"
      ],
      "text/markdown": [
       "\n",
       "A data.frame: 4 × 3\n",
       "\n",
       "| <!--/--> | nombre &lt;fct&gt; | puntuacion &lt;dbl&gt; | posterior_2005 &lt;lgl&gt; |\n",
       "|---|---|---|---|\n",
       "| 1 | Shrek                      | 7.9 | FALSE |\n",
       "| 2 | Shrek 2                    | 7.2 | FALSE |\n",
       "| 3 | Shrek Tercero              | 6.1 |  TRUE |\n",
       "| 4 | Shrek: Felices por siempre | 6.3 |  TRUE |\n",
       "\n"
      ],
      "text/plain": [
       "  nombre                     puntuacion posterior_2005\n",
       "1 Shrek                      7.9        FALSE         \n",
       "2 Shrek 2                    7.2        FALSE         \n",
       "3 Shrek Tercero              6.1         TRUE         \n",
       "4 Shrek: Felices por siempre 6.3         TRUE         "
      ]
     },
     "metadata": {},
     "output_type": "display_data"
    }
   ],
   "source": [
    "df <- data.frame(nombre,puntuacion,posterior_2005)\n",
    "head(df)"
   ]
  },
  {
   "cell_type": "code",
   "execution_count": 8,
   "id": "a756c511",
   "metadata": {},
   "outputs": [
    {
     "data": {
      "text/html": [
       "<table class=\"dataframe\">\n",
       "<caption>A data.frame: 4 × 3</caption>\n",
       "<thead>\n",
       "\t<tr><th></th><th scope=col>Nombre</th><th scope=col>Score</th><th scope=col>Posterior 2005</th></tr>\n",
       "\t<tr><th></th><th scope=col>&lt;fct&gt;</th><th scope=col>&lt;dbl&gt;</th><th scope=col>&lt;lgl&gt;</th></tr>\n",
       "</thead>\n",
       "<tbody>\n",
       "\t<tr><th scope=row>1</th><td>Shrek                     </td><td>7.9</td><td>FALSE</td></tr>\n",
       "\t<tr><th scope=row>2</th><td>Shrek 2                   </td><td>7.2</td><td>FALSE</td></tr>\n",
       "\t<tr><th scope=row>3</th><td>Shrek Tercero             </td><td>6.1</td><td> TRUE</td></tr>\n",
       "\t<tr><th scope=row>4</th><td>Shrek: Felices por siempre</td><td>6.3</td><td> TRUE</td></tr>\n",
       "</tbody>\n",
       "</table>\n"
      ],
      "text/latex": [
       "A data.frame: 4 × 3\n",
       "\\begin{tabular}{r|lll}\n",
       "  & Nombre & Score & Posterior 2005\\\\\n",
       "  & <fct> & <dbl> & <lgl>\\\\\n",
       "\\hline\n",
       "\t1 & Shrek                      & 7.9 & FALSE\\\\\n",
       "\t2 & Shrek 2                    & 7.2 & FALSE\\\\\n",
       "\t3 & Shrek Tercero              & 6.1 &  TRUE\\\\\n",
       "\t4 & Shrek: Felices por siempre & 6.3 &  TRUE\\\\\n",
       "\\end{tabular}\n"
      ],
      "text/markdown": [
       "\n",
       "A data.frame: 4 × 3\n",
       "\n",
       "| <!--/--> | Nombre &lt;fct&gt; | Score &lt;dbl&gt; | Posterior 2005 &lt;lgl&gt; |\n",
       "|---|---|---|---|\n",
       "| 1 | Shrek                      | 7.9 | FALSE |\n",
       "| 2 | Shrek 2                    | 7.2 | FALSE |\n",
       "| 3 | Shrek Tercero              | 6.1 |  TRUE |\n",
       "| 4 | Shrek: Felices por siempre | 6.3 |  TRUE |\n",
       "\n"
      ],
      "text/plain": [
       "  Nombre                     Score Posterior 2005\n",
       "1 Shrek                      7.9   FALSE         \n",
       "2 Shrek 2                    7.2   FALSE         \n",
       "3 Shrek Tercero              6.1    TRUE         \n",
       "4 Shrek: Felices por siempre 6.3    TRUE         "
      ]
     },
     "metadata": {},
     "output_type": "display_data"
    }
   ],
   "source": [
    "names(df) <-c(\"Nombre\",\"Score\",\"Posterior 2005\")\n",
    "head(df)"
   ]
  },
  {
   "cell_type": "code",
   "execution_count": 10,
   "id": "dd1a936f",
   "metadata": {},
   "outputs": [
    {
     "data": {
      "text/html": [
       "<style>\n",
       ".list-inline {list-style: none; margin:0; padding: 0}\n",
       ".list-inline>li {display: inline-block}\n",
       ".list-inline>li:not(:last-child)::after {content: \"\\00b7\"; padding: 0 .5ex}\n",
       "</style>\n",
       "<ol class=list-inline><li>Shrek</li><li>Shrek 2</li></ol>\n",
       "\n",
       "<details>\n",
       "\t<summary style=display:list-item;cursor:pointer>\n",
       "\t\t<strong>Levels</strong>:\n",
       "\t</summary>\n",
       "\t<style>\n",
       "\t.list-inline {list-style: none; margin:0; padding: 0}\n",
       "\t.list-inline>li {display: inline-block}\n",
       "\t.list-inline>li:not(:last-child)::after {content: \"\\00b7\"; padding: 0 .5ex}\n",
       "\t</style>\n",
       "\t<ol class=list-inline><li>'Shrek'</li><li>'Shrek 2'</li><li>'Shrek Tercero'</li><li>'Shrek: Felices por siempre'</li></ol>\n",
       "</details>"
      ],
      "text/latex": [
       "\\begin{enumerate*}\n",
       "\\item Shrek\n",
       "\\item Shrek 2\n",
       "\\end{enumerate*}\n",
       "\n",
       "\\emph{Levels}: \\begin{enumerate*}\n",
       "\\item 'Shrek'\n",
       "\\item 'Shrek 2'\n",
       "\\item 'Shrek Tercero'\n",
       "\\item 'Shrek: Felices por siempre'\n",
       "\\end{enumerate*}\n"
      ],
      "text/markdown": [
       "1. Shrek\n",
       "2. Shrek 2\n",
       "\n",
       "\n",
       "\n",
       "**Levels**: 1. 'Shrek'\n",
       "2. 'Shrek 2'\n",
       "3. 'Shrek Tercero'\n",
       "4. 'Shrek: Felices por siempre'\n",
       "\n",
       "\n"
      ],
      "text/plain": [
       "[1] Shrek   Shrek 2\n",
       "Levels: Shrek Shrek 2 Shrek Tercero Shrek: Felices por siempre"
      ]
     },
     "metadata": {},
     "output_type": "display_data"
    }
   ],
   "source": [
    "#La seleccion de elementos es similar\n",
    "df[1:2,\"Nombre\"]"
   ]
  },
  {
   "cell_type": "code",
   "execution_count": 19,
   "id": "8a842589",
   "metadata": {},
   "outputs": [
    {
     "data": {
      "text/html": [
       "<style>\n",
       ".list-inline {list-style: none; margin:0; padding: 0}\n",
       ".list-inline>li {display: inline-block}\n",
       ".list-inline>li:not(:last-child)::after {content: \"\\00b7\"; padding: 0 .5ex}\n",
       "</style>\n",
       "<ol class=list-inline><li>Shrek Tercero</li><li>Shrek: Felices por siempre</li></ol>\n",
       "\n",
       "<details>\n",
       "\t<summary style=display:list-item;cursor:pointer>\n",
       "\t\t<strong>Levels</strong>:\n",
       "\t</summary>\n",
       "\t<style>\n",
       "\t.list-inline {list-style: none; margin:0; padding: 0}\n",
       "\t.list-inline>li {display: inline-block}\n",
       "\t.list-inline>li:not(:last-child)::after {content: \"\\00b7\"; padding: 0 .5ex}\n",
       "\t</style>\n",
       "\t<ol class=list-inline><li>'Shrek'</li><li>'Shrek 2'</li><li>'Shrek Tercero'</li><li>'Shrek: Felices por siempre'</li></ol>\n",
       "</details>"
      ],
      "text/latex": [
       "\\begin{enumerate*}\n",
       "\\item Shrek Tercero\n",
       "\\item Shrek: Felices por siempre\n",
       "\\end{enumerate*}\n",
       "\n",
       "\\emph{Levels}: \\begin{enumerate*}\n",
       "\\item 'Shrek'\n",
       "\\item 'Shrek 2'\n",
       "\\item 'Shrek Tercero'\n",
       "\\item 'Shrek: Felices por siempre'\n",
       "\\end{enumerate*}\n"
      ],
      "text/markdown": [
       "1. Shrek Tercero\n",
       "2. Shrek: Felices por siempre\n",
       "\n",
       "\n",
       "\n",
       "**Levels**: 1. 'Shrek'\n",
       "2. 'Shrek 2'\n",
       "3. 'Shrek Tercero'\n",
       "4. 'Shrek: Felices por siempre'\n",
       "\n",
       "\n"
      ],
      "text/plain": [
       "[1] Shrek Tercero              Shrek: Felices por siempre\n",
       "Levels: Shrek Shrek 2 Shrek Tercero Shrek: Felices por siempre"
      ]
     },
     "metadata": {},
     "output_type": "display_data"
    }
   ],
   "source": [
    "#Booleano\n",
    "#Por ejemplo dame el nombre de las peliculas que\n",
    "#salieron antes de 2005\n",
    "df[which(df[\"Posterior 2005\"]==TRUE),\"Nombre\"]"
   ]
  },
  {
   "cell_type": "code",
   "execution_count": 26,
   "id": "97f55540",
   "metadata": {},
   "outputs": [
    {
     "data": {
      "text/html": [
       "<table class=\"dataframe\">\n",
       "<caption>A data.frame: 4 × 3</caption>\n",
       "<thead>\n",
       "\t<tr><th></th><th scope=col>Nombre</th><th scope=col>Score</th><th scope=col>Posterior 2005</th></tr>\n",
       "\t<tr><th></th><th scope=col>&lt;fct&gt;</th><th scope=col>&lt;dbl&gt;</th><th scope=col>&lt;lgl&gt;</th></tr>\n",
       "</thead>\n",
       "<tbody>\n",
       "\t<tr><th scope=row>3</th><td>Shrek Tercero             </td><td>6.1</td><td> TRUE</td></tr>\n",
       "\t<tr><th scope=row>4</th><td>Shrek: Felices por siempre</td><td>6.3</td><td> TRUE</td></tr>\n",
       "\t<tr><th scope=row>2</th><td>Shrek 2                   </td><td>7.2</td><td>FALSE</td></tr>\n",
       "\t<tr><th scope=row>1</th><td>Shrek                     </td><td>7.9</td><td>FALSE</td></tr>\n",
       "</tbody>\n",
       "</table>\n"
      ],
      "text/latex": [
       "A data.frame: 4 × 3\n",
       "\\begin{tabular}{r|lll}\n",
       "  & Nombre & Score & Posterior 2005\\\\\n",
       "  & <fct> & <dbl> & <lgl>\\\\\n",
       "\\hline\n",
       "\t3 & Shrek Tercero              & 6.1 &  TRUE\\\\\n",
       "\t4 & Shrek: Felices por siempre & 6.3 &  TRUE\\\\\n",
       "\t2 & Shrek 2                    & 7.2 & FALSE\\\\\n",
       "\t1 & Shrek                      & 7.9 & FALSE\\\\\n",
       "\\end{tabular}\n"
      ],
      "text/markdown": [
       "\n",
       "A data.frame: 4 × 3\n",
       "\n",
       "| <!--/--> | Nombre &lt;fct&gt; | Score &lt;dbl&gt; | Posterior 2005 &lt;lgl&gt; |\n",
       "|---|---|---|---|\n",
       "| 3 | Shrek Tercero              | 6.1 |  TRUE |\n",
       "| 4 | Shrek: Felices por siempre | 6.3 |  TRUE |\n",
       "| 2 | Shrek 2                    | 7.2 | FALSE |\n",
       "| 1 | Shrek                      | 7.9 | FALSE |\n",
       "\n"
      ],
      "text/plain": [
       "  Nombre                     Score Posterior 2005\n",
       "3 Shrek Tercero              6.1    TRUE         \n",
       "4 Shrek: Felices por siempre 6.3    TRUE         \n",
       "2 Shrek 2                    7.2   FALSE         \n",
       "1 Shrek                      7.9   FALSE         "
      ]
     },
     "metadata": {},
     "output_type": "display_data"
    }
   ],
   "source": [
    "#Se pueden pasar varios pasando un vector, ya sea\n",
    "#De numeros o letras.\n",
    "\n",
    "#Ordenar DataFrame\n",
    "df_ordenado <- df[order(df$Score),]\n",
    "head(df_ordenado)\n",
    "#Para que sea en orden contrario agregar en order\n",
    "#el parametro decreasing = True o a esa lista aplicarle\n",
    "#un rev"
   ]
  },
  {
   "cell_type": "code",
   "execution_count": 27,
   "id": "11a93743",
   "metadata": {},
   "outputs": [
    {
     "data": {
      "text/html": [
       "<style>\n",
       ".list-inline {list-style: none; margin:0; padding: 0}\n",
       ".list-inline>li {display: inline-block}\n",
       ".list-inline>li:not(:last-child)::after {content: \"\\00b7\"; padding: 0 .5ex}\n",
       "</style>\n",
       "<ol class=list-inline><li>3</li><li>4</li><li>2</li><li>1</li></ol>\n"
      ],
      "text/latex": [
       "\\begin{enumerate*}\n",
       "\\item 3\n",
       "\\item 4\n",
       "\\item 2\n",
       "\\item 1\n",
       "\\end{enumerate*}\n"
      ],
      "text/markdown": [
       "1. 3\n",
       "2. 4\n",
       "3. 2\n",
       "4. 1\n",
       "\n",
       "\n"
      ],
      "text/plain": [
       "[1] 3 4 2 1"
      ]
     },
     "metadata": {},
     "output_type": "display_data"
    }
   ],
   "source": [
    "#Order y la columna me regresa el orden correcto\n",
    "#De las observaciones, entonces al indexar por ellos\n",
    "#Se indexa en ese orden\n",
    "order(df$Score)\n"
   ]
  },
  {
   "cell_type": "code",
   "execution_count": 30,
   "id": "19a45f32",
   "metadata": {},
   "outputs": [
    {
     "ename": "ERROR",
     "evalue": "Error in desc(df): no se pudo encontrar la función \"desc\"\n",
     "output_type": "error",
     "traceback": [
      "Error in desc(df): no se pudo encontrar la función \"desc\"\nTraceback:\n"
     ]
    }
   ],
   "source": [
    "desc(df)"
   ]
  },
  {
   "cell_type": "code",
   "execution_count": null,
   "id": "2e0d2110",
   "metadata": {},
   "outputs": [],
   "source": [
    "#np.where equivalente en R\n",
    "np.where(b > 0, a, a+1)\n",
    "ifelse(b > 0, a, a+1)"
   ]
  },
  {
   "cell_type": "code",
   "execution_count": 34,
   "id": "36ac7ba0",
   "metadata": {},
   "outputs": [
    {
     "data": {
      "text/html": [],
      "text/latex": [],
      "text/markdown": [],
      "text/plain": [
       " \n",
       "1"
      ]
     },
     "metadata": {},
     "output_type": "display_data"
    }
   ],
   "source": [
    "library(dplyr)\n",
    "#Ver que se puede hacer en este paquete para describe y así\n",
    "\n"
   ]
  },
  {
   "cell_type": "code",
   "execution_count": null,
   "id": "cad83ee7",
   "metadata": {},
   "outputs": [],
   "source": []
  }
 ],
 "metadata": {
  "kernelspec": {
   "display_name": "R",
   "language": "R",
   "name": "ir"
  },
  "language_info": {
   "codemirror_mode": "r",
   "file_extension": ".r",
   "mimetype": "text/x-r-source",
   "name": "R",
   "pygments_lexer": "r",
   "version": "3.6.1"
  }
 },
 "nbformat": 4,
 "nbformat_minor": 5
}
