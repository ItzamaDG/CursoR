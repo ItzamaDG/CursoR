{
 "cells": [
  {
   "cell_type": "code",
   "execution_count": 2,
   "id": "9e1db166",
   "metadata": {},
   "outputs": [
    {
     "name": "stdout",
     "output_type": "stream",
     "text": [
      "[1] 4\n"
     ]
    }
   ],
   "source": [
    "#Asignacion de variables\n",
    "variable_x <- 2\n",
    "print(variable_x*2)"
   ]
  },
  {
   "cell_type": "code",
   "execution_count": 3,
   "id": "286e0363",
   "metadata": {},
   "outputs": [
    {
     "data": {
      "text/html": [
       "'numeric'"
      ],
      "text/latex": [
       "'numeric'"
      ],
      "text/markdown": [
       "'numeric'"
      ],
      "text/plain": [
       "[1] \"numeric\""
      ]
     },
     "metadata": {},
     "output_type": "display_data"
    }
   ],
   "source": [
    "#Tipos de datos\n",
    "class(variable_x)"
   ]
  },
  {
   "cell_type": "code",
   "execution_count": 4,
   "id": "198d79a5",
   "metadata": {},
   "outputs": [
    {
     "data": {
      "text/html": [
       "'logical'"
      ],
      "text/latex": [
       "'logical'"
      ],
      "text/markdown": [
       "'logical'"
      ],
      "text/plain": [
       "[1] \"logical\""
      ]
     },
     "metadata": {},
     "output_type": "display_data"
    }
   ],
   "source": [
    "class(variable_x>9)"
   ]
  },
  {
   "cell_type": "markdown",
   "id": "d790214d",
   "metadata": {},
   "source": [
    "# Vectores"
   ]
  },
  {
   "cell_type": "code",
   "execution_count": 11,
   "id": "74bef9c4",
   "metadata": {},
   "outputs": [
    {
     "data": {
      "text/html": [
       "<style>\n",
       ".list-inline {list-style: none; margin:0; padding: 0}\n",
       ".list-inline>li {display: inline-block}\n",
       ".list-inline>li:not(:last-child)::after {content: \"\\00b7\"; padding: 0 .5ex}\n",
       "</style>\n",
       "<ol class=list-inline><li>3</li><li>12</li><li>22</li></ol>\n"
      ],
      "text/latex": [
       "\\begin{enumerate*}\n",
       "\\item 3\n",
       "\\item 12\n",
       "\\item 22\n",
       "\\end{enumerate*}\n"
      ],
      "text/markdown": [
       "1. 3\n",
       "2. 12\n",
       "3. 22\n",
       "\n",
       "\n"
      ],
      "text/plain": [
       "[1]  3 12 22"
      ]
     },
     "metadata": {},
     "output_type": "display_data"
    }
   ],
   "source": [
    "#Almacenan datos de un solo tipo\n",
    "vector_numerico <- c(1,10,20)\n",
    "vector_numerico_2 <- c(2,2,2)\n",
    "vector_numerico + vector_numerico_2"
   ]
  },
  {
   "cell_type": "code",
   "execution_count": 7,
   "id": "2ec64b76",
   "metadata": {},
   "outputs": [
    {
     "data": {
      "text/html": [
       "3"
      ],
      "text/latex": [
       "3"
      ],
      "text/markdown": [
       "3"
      ],
      "text/plain": [
       "[1] 3"
      ]
     },
     "metadata": {},
     "output_type": "display_data"
    }
   ],
   "source": [
    "#Longitud\n",
    "length(vector_numerico)"
   ]
  },
  {
   "cell_type": "code",
   "execution_count": 8,
   "id": "e38a2891",
   "metadata": {},
   "outputs": [
    {
     "data": {
      "text/html": [
       "2"
      ],
      "text/latex": [
       "2"
      ],
      "text/markdown": [
       "2"
      ],
      "text/plain": [
       "[1] 2"
      ]
     },
     "metadata": {},
     "output_type": "display_data"
    }
   ],
   "source": [
    "#Media\n",
    "mean(vector_numerico)"
   ]
  },
  {
   "cell_type": "code",
   "execution_count": 12,
   "id": "0181e556",
   "metadata": {},
   "outputs": [
    {
     "data": {
      "text/html": [
       "<style>\n",
       ".list-inline {list-style: none; margin:0; padding: 0}\n",
       ".list-inline>li {display: inline-block}\n",
       ".list-inline>li:not(:last-child)::after {content: \"\\00b7\"; padding: 0 .5ex}\n",
       "</style>\n",
       "<ol class=list-inline><li>2</li><li>3</li></ol>\n"
      ],
      "text/latex": [
       "\\begin{enumerate*}\n",
       "\\item 2\n",
       "\\item 3\n",
       "\\end{enumerate*}\n"
      ],
      "text/markdown": [
       "1. 2\n",
       "2. 3\n",
       "\n",
       "\n"
      ],
      "text/plain": [
       "[1] 2 3"
      ]
     },
     "metadata": {},
     "output_type": "display_data"
    }
   ],
   "source": [
    "#Indexado booleano\n",
    "which(vector_numerico>=2)\n",
    "#Regresa los indices de los que satisfacen eso"
   ]
  },
  {
   "cell_type": "code",
   "execution_count": 14,
   "id": "85364f74",
   "metadata": {},
   "outputs": [
    {
     "data": {
      "text/html": [
       "<style>\n",
       ".list-inline {list-style: none; margin:0; padding: 0}\n",
       ".list-inline>li {display: inline-block}\n",
       ".list-inline>li:not(:last-child)::after {content: \"\\00b7\"; padding: 0 .5ex}\n",
       "</style>\n",
       "<ol class=list-inline><li>10</li><li>20</li></ol>\n"
      ],
      "text/latex": [
       "\\begin{enumerate*}\n",
       "\\item 10\n",
       "\\item 20\n",
       "\\end{enumerate*}\n"
      ],
      "text/markdown": [
       "1. 10\n",
       "2. 20\n",
       "\n",
       "\n"
      ],
      "text/plain": [
       "[1] 10 20"
      ]
     },
     "metadata": {},
     "output_type": "display_data"
    }
   ],
   "source": [
    "#Entonces si selecciono ellos\n",
    "vector_numerico[which(vector_numerico>=2)]"
   ]
  },
  {
   "cell_type": "code",
   "execution_count": 15,
   "id": "add69a6e",
   "metadata": {},
   "outputs": [
    {
     "data": {
      "text/html": [
       "<style>\n",
       ".list-inline {list-style: none; margin:0; padding: 0}\n",
       ".list-inline>li {display: inline-block}\n",
       ".list-inline>li:not(:last-child)::after {content: \"\\00b7\"; padding: 0 .5ex}\n",
       "</style>\n",
       "<ol class=list-inline><li>10</li><li>20</li></ol>\n"
      ],
      "text/latex": [
       "\\begin{enumerate*}\n",
       "\\item 10\n",
       "\\item 20\n",
       "\\end{enumerate*}\n"
      ],
      "text/markdown": [
       "1. 10\n",
       "2. 20\n",
       "\n",
       "\n"
      ],
      "text/plain": [
       "[1] 10 20"
      ]
     },
     "metadata": {},
     "output_type": "display_data"
    }
   ],
   "source": [
    "#También funciona así\n",
    "vector_numerico[vector_numerico>=2]"
   ]
  },
  {
   "cell_type": "markdown",
   "id": "a82e49bd",
   "metadata": {},
   "source": [
    "# Matrices"
   ]
  },
  {
   "cell_type": "code",
   "execution_count": 18,
   "id": "e02c4838",
   "metadata": {},
   "outputs": [
    {
     "data": {
      "text/html": [
       "<table class=\"dataframe\">\n",
       "<caption>A matrix: 4 × 3 of type dbl</caption>\n",
       "<tbody>\n",
       "\t<tr><td> 1</td><td> 4</td><td> 7</td></tr>\n",
       "\t<tr><td> 2</td><td> 5</td><td> 8</td></tr>\n",
       "\t<tr><td> 3</td><td> 6</td><td> 9</td></tr>\n",
       "\t<tr><td>10</td><td>10</td><td>10</td></tr>\n",
       "</tbody>\n",
       "</table>\n"
      ],
      "text/latex": [
       "A matrix: 4 × 3 of type dbl\n",
       "\\begin{tabular}{lll}\n",
       "\t  1 &  4 &  7\\\\\n",
       "\t  2 &  5 &  8\\\\\n",
       "\t  3 &  6 &  9\\\\\n",
       "\t 10 & 10 & 10\\\\\n",
       "\\end{tabular}\n"
      ],
      "text/markdown": [
       "\n",
       "A matrix: 4 × 3 of type dbl\n",
       "\n",
       "|  1 |  4 |  7 |\n",
       "|  2 |  5 |  8 |\n",
       "|  3 |  6 |  9 |\n",
       "| 10 | 10 | 10 |\n",
       "\n"
      ],
      "text/plain": [
       "     [,1] [,2] [,3]\n",
       "[1,]  1    4    7  \n",
       "[2,]  2    5    8  \n",
       "[3,]  3    6    9  \n",
       "[4,] 10   10   10  "
      ]
     },
     "metadata": {},
     "output_type": "display_data"
    }
   ],
   "source": [
    "#Podemos usar una matriz de dos columnas para\n",
    "#una gráfica de dispersión\n",
    "\n",
    "#Usamos la función matrix\n",
    "#Se ingresan por columna\n",
    "col1<-c(1,2,3,10)\n",
    "col2<-c(4,5,6,10)\n",
    "col3<-c(7,8,9,10)\n",
    "M <- matrix(c(col1,col2,col3),nrow = 4,ncol=3)\n",
    "M\n"
   ]
  },
  {
   "cell_type": "code",
   "execution_count": 30,
   "id": "576a15f7",
   "metadata": {},
   "outputs": [
    {
     "data": {
      "text/html": [
       "<table class=\"dataframe\">\n",
       "<caption>A matrix: 4 × 3 of type dbl</caption>\n",
       "<thead>\n",
       "\t<tr><th></th><th scope=col>Columna1</th><th scope=col>Columna2</th><th scope=col>Columna3</th></tr>\n",
       "</thead>\n",
       "<tbody>\n",
       "\t<tr><th scope=row>Ob2</th><td> 1</td><td> 4</td><td> 7</td></tr>\n",
       "\t<tr><th scope=row>Ob3</th><td> 2</td><td> 5</td><td> 8</td></tr>\n",
       "\t<tr><th scope=row>Ob4</th><td> 3</td><td> 6</td><td> 9</td></tr>\n",
       "\t<tr><th scope=row>Ob5</th><td>10</td><td>10</td><td>10</td></tr>\n",
       "</tbody>\n",
       "</table>\n"
      ],
      "text/latex": [
       "A matrix: 4 × 3 of type dbl\n",
       "\\begin{tabular}{r|lll}\n",
       "  & Columna1 & Columna2 & Columna3\\\\\n",
       "\\hline\n",
       "\tOb2 &  1 &  4 &  7\\\\\n",
       "\tOb3 &  2 &  5 &  8\\\\\n",
       "\tOb4 &  3 &  6 &  9\\\\\n",
       "\tOb5 & 10 & 10 & 10\\\\\n",
       "\\end{tabular}\n"
      ],
      "text/markdown": [
       "\n",
       "A matrix: 4 × 3 of type dbl\n",
       "\n",
       "| <!--/--> | Columna1 | Columna2 | Columna3 |\n",
       "|---|---|---|---|\n",
       "| Ob2 |  1 |  4 |  7 |\n",
       "| Ob3 |  2 |  5 |  8 |\n",
       "| Ob4 |  3 |  6 |  9 |\n",
       "| Ob5 | 10 | 10 | 10 |\n",
       "\n"
      ],
      "text/plain": [
       "    Columna1 Columna2 Columna3\n",
       "Ob2  1        4        7      \n",
       "Ob3  2        5        8      \n",
       "Ob4  3        6        9      \n",
       "Ob5 10       10       10      "
      ]
     },
     "metadata": {},
     "output_type": "display_data"
    }
   ],
   "source": [
    "#Agregamos nombres\n",
    "colnames(M)<-c('Columna1','Columna2','Columna3')\n",
    "rownames(M)<-c('Ob2','Ob3','Ob4','Ob5')\n",
    "M\n",
    "#La verdad no sé que tan usual es hacer esto"
   ]
  },
  {
   "cell_type": "code",
   "execution_count": 40,
   "id": "857342da",
   "metadata": {},
   "outputs": [
    {
     "data": {
      "text/html": [
       "<style>\n",
       ".list-inline {list-style: none; margin:0; padding: 0}\n",
       ".list-inline>li {display: inline-block}\n",
       ".list-inline>li:not(:last-child)::after {content: \"\\00b7\"; padding: 0 .5ex}\n",
       "</style>\n",
       "<ol class=list-inline><li>4</li><li>3</li></ol>\n"
      ],
      "text/latex": [
       "\\begin{enumerate*}\n",
       "\\item 4\n",
       "\\item 3\n",
       "\\end{enumerate*}\n"
      ],
      "text/markdown": [
       "1. 4\n",
       "2. 3\n",
       "\n",
       "\n"
      ],
      "text/plain": [
       "[1] 4 3"
      ]
     },
     "metadata": {},
     "output_type": "display_data"
    }
   ],
   "source": [
    "dim(M)\n",
    "#Me da las dimensiones de la matriz"
   ]
  },
  {
   "cell_type": "code",
   "execution_count": 24,
   "id": "e1cb046e",
   "metadata": {},
   "outputs": [
    {
     "data": {
      "text/html": [
       "<table class=\"dataframe\">\n",
       "<caption>A matrix: 4 × 3 of type dbl</caption>\n",
       "<thead>\n",
       "\t<tr><th></th><th scope=col>Columna1</th><th scope=col>Columna2</th><th scope=col>Columna3</th></tr>\n",
       "</thead>\n",
       "<tbody>\n",
       "\t<tr><th scope=row>Ob1</th><td>    2.718282</td><td>   54.59815</td><td> 1096.633</td></tr>\n",
       "\t<tr><th scope=row>Ob1</th><td>    7.389056</td><td>  148.41316</td><td> 2980.958</td></tr>\n",
       "\t<tr><th scope=row>Ob1</th><td>   20.085537</td><td>  403.42879</td><td> 8103.084</td></tr>\n",
       "\t<tr><th scope=row>Ob1</th><td>22026.465795</td><td>22026.46579</td><td>22026.466</td></tr>\n",
       "</tbody>\n",
       "</table>\n"
      ],
      "text/latex": [
       "A matrix: 4 × 3 of type dbl\n",
       "\\begin{tabular}{r|lll}\n",
       "  & Columna1 & Columna2 & Columna3\\\\\n",
       "\\hline\n",
       "\tOb1 &     2.718282 &    54.59815 &  1096.633\\\\\n",
       "\tOb1 &     7.389056 &   148.41316 &  2980.958\\\\\n",
       "\tOb1 &    20.085537 &   403.42879 &  8103.084\\\\\n",
       "\tOb1 & 22026.465795 & 22026.46579 & 22026.466\\\\\n",
       "\\end{tabular}\n"
      ],
      "text/markdown": [
       "\n",
       "A matrix: 4 × 3 of type dbl\n",
       "\n",
       "| <!--/--> | Columna1 | Columna2 | Columna3 |\n",
       "|---|---|---|---|\n",
       "| Ob1 |     2.718282 |    54.59815 |  1096.633 |\n",
       "| Ob1 |     7.389056 |   148.41316 |  2980.958 |\n",
       "| Ob1 |    20.085537 |   403.42879 |  8103.084 |\n",
       "| Ob1 | 22026.465795 | 22026.46579 | 22026.466 |\n",
       "\n"
      ],
      "text/plain": [
       "    Columna1     Columna2    Columna3 \n",
       "Ob1     2.718282    54.59815  1096.633\n",
       "Ob1     7.389056   148.41316  2980.958\n",
       "Ob1    20.085537   403.42879  8103.084\n",
       "Ob1 22026.465795 22026.46579 22026.466"
      ]
     },
     "metadata": {},
     "output_type": "display_data"
    }
   ],
   "source": [
    "#Se puede hacer las operaciones usuales que\n",
    "#Se te ocurren, elemento a elemento\n",
    "#A esas se añaden la multiplicacion de matrices\n",
    "# M%*%P\n",
    "#Exponencial de una matriz etc"
   ]
  },
  {
   "cell_type": "code",
   "execution_count": 27,
   "id": "0b6e85a8",
   "metadata": {},
   "outputs": [
    {
     "data": {
      "text/html": [
       "<table class=\"dataframe\">\n",
       "<caption>A matrix: 3 × 3 of type dbl</caption>\n",
       "<thead>\n",
       "\t<tr><th></th><th scope=col>Columna1</th><th scope=col>Columna2</th><th scope=col>Columna3</th></tr>\n",
       "</thead>\n",
       "<tbody>\n",
       "\t<tr><th scope=row>Columna1</th><td>114</td><td>132</td><td>150</td></tr>\n",
       "\t<tr><th scope=row>Columna2</th><td>132</td><td>177</td><td>222</td></tr>\n",
       "\t<tr><th scope=row>Columna3</th><td>150</td><td>222</td><td>294</td></tr>\n",
       "</tbody>\n",
       "</table>\n"
      ],
      "text/latex": [
       "A matrix: 3 × 3 of type dbl\n",
       "\\begin{tabular}{r|lll}\n",
       "  & Columna1 & Columna2 & Columna3\\\\\n",
       "\\hline\n",
       "\tColumna1 & 114 & 132 & 150\\\\\n",
       "\tColumna2 & 132 & 177 & 222\\\\\n",
       "\tColumna3 & 150 & 222 & 294\\\\\n",
       "\\end{tabular}\n"
      ],
      "text/markdown": [
       "\n",
       "A matrix: 3 × 3 of type dbl\n",
       "\n",
       "| <!--/--> | Columna1 | Columna2 | Columna3 |\n",
       "|---|---|---|---|\n",
       "| Columna1 | 114 | 132 | 150 |\n",
       "| Columna2 | 132 | 177 | 222 |\n",
       "| Columna3 | 150 | 222 | 294 |\n",
       "\n"
      ],
      "text/plain": [
       "         Columna1 Columna2 Columna3\n",
       "Columna1 114      132      150     \n",
       "Columna2 132      177      222     \n",
       "Columna3 150      222      294     "
      ]
     },
     "metadata": {},
     "output_type": "display_data"
    }
   ],
   "source": [
    "#Practicamos la transpuesta de una matriz y el prod\n",
    "t(M)%*%M"
   ]
  },
  {
   "cell_type": "code",
   "execution_count": 31,
   "id": "bc1b4fd4",
   "metadata": {},
   "outputs": [
    {
     "data": {
      "text/html": [
       "<table class=\"dataframe\">\n",
       "<caption>A matrix: 4 × 3 of type dbl</caption>\n",
       "<thead>\n",
       "\t<tr><th></th><th scope=col>Columna1</th><th scope=col>Columna2</th><th scope=col>Columna3</th></tr>\n",
       "</thead>\n",
       "<tbody>\n",
       "\t<tr><th scope=row>Ob2</th><td> 1</td><td> 4</td><td> 7</td></tr>\n",
       "\t<tr><th scope=row>Ob3</th><td> 2</td><td> 5</td><td> 8</td></tr>\n",
       "\t<tr><th scope=row>Ob4</th><td> 3</td><td> 6</td><td> 9</td></tr>\n",
       "\t<tr><th scope=row>Ob5</th><td>10</td><td>10</td><td>10</td></tr>\n",
       "</tbody>\n",
       "</table>\n"
      ],
      "text/latex": [
       "A matrix: 4 × 3 of type dbl\n",
       "\\begin{tabular}{r|lll}\n",
       "  & Columna1 & Columna2 & Columna3\\\\\n",
       "\\hline\n",
       "\tOb2 &  1 &  4 &  7\\\\\n",
       "\tOb3 &  2 &  5 &  8\\\\\n",
       "\tOb4 &  3 &  6 &  9\\\\\n",
       "\tOb5 & 10 & 10 & 10\\\\\n",
       "\\end{tabular}\n"
      ],
      "text/markdown": [
       "\n",
       "A matrix: 4 × 3 of type dbl\n",
       "\n",
       "| <!--/--> | Columna1 | Columna2 | Columna3 |\n",
       "|---|---|---|---|\n",
       "| Ob2 |  1 |  4 |  7 |\n",
       "| Ob3 |  2 |  5 |  8 |\n",
       "| Ob4 |  3 |  6 |  9 |\n",
       "| Ob5 | 10 | 10 | 10 |\n",
       "\n"
      ],
      "text/plain": [
       "    Columna1 Columna2 Columna3\n",
       "Ob2  1        4        7      \n",
       "Ob3  2        5        8      \n",
       "Ob4  3        6        9      \n",
       "Ob5 10       10       10      "
      ]
     },
     "metadata": {},
     "output_type": "display_data"
    }
   ],
   "source": [
    "#Volvemos a observar a M\n",
    "M\n"
   ]
  },
  {
   "cell_type": "code",
   "execution_count": 32,
   "id": "91df9471",
   "metadata": {},
   "outputs": [
    {
     "data": {
      "text/html": [
       "<style>\n",
       ".dl-inline {width: auto; margin:0; padding: 0}\n",
       ".dl-inline>dt, .dl-inline>dd {float: none; width: auto; display: inline-block}\n",
       ".dl-inline>dt::after {content: \":\\0020\"; padding-right: .5ex}\n",
       ".dl-inline>dt:not(:first-of-type) {padding-left: .5ex}\n",
       "</style><dl class=dl-inline><dt>Columna1</dt><dd>1</dd><dt>Columna2</dt><dd>4</dd><dt>Columna3</dt><dd>7</dd></dl>\n"
      ],
      "text/latex": [
       "\\begin{description*}\n",
       "\\item[Columna1] 1\n",
       "\\item[Columna2] 4\n",
       "\\item[Columna3] 7\n",
       "\\end{description*}\n"
      ],
      "text/markdown": [
       "Columna1\n",
       ":   1Columna2\n",
       ":   4Columna3\n",
       ":   7\n",
       "\n"
      ],
      "text/plain": [
       "Columna1 Columna2 Columna3 \n",
       "       1        4        7 "
      ]
     },
     "metadata": {},
     "output_type": "display_data"
    }
   ],
   "source": [
    "#Seleccionamos el primer renglon\n",
    "M[1,]"
   ]
  },
  {
   "cell_type": "code",
   "execution_count": 33,
   "id": "03ea70ed",
   "metadata": {},
   "outputs": [
    {
     "data": {
      "text/html": [
       "<style>\n",
       ".dl-inline {width: auto; margin:0; padding: 0}\n",
       ".dl-inline>dt, .dl-inline>dd {float: none; width: auto; display: inline-block}\n",
       ".dl-inline>dt::after {content: \":\\0020\"; padding-right: .5ex}\n",
       ".dl-inline>dt:not(:first-of-type) {padding-left: .5ex}\n",
       "</style><dl class=dl-inline><dt>Ob2</dt><dd>4</dd><dt>Ob3</dt><dd>5</dd><dt>Ob4</dt><dd>6</dd><dt>Ob5</dt><dd>10</dd></dl>\n"
      ],
      "text/latex": [
       "\\begin{description*}\n",
       "\\item[Ob2] 4\n",
       "\\item[Ob3] 5\n",
       "\\item[Ob4] 6\n",
       "\\item[Ob5] 10\n",
       "\\end{description*}\n"
      ],
      "text/markdown": [
       "Ob2\n",
       ":   4Ob3\n",
       ":   5Ob4\n",
       ":   6Ob5\n",
       ":   10\n",
       "\n"
      ],
      "text/plain": [
       "Ob2 Ob3 Ob4 Ob5 \n",
       "  4   5   6  10 "
      ]
     },
     "metadata": {},
     "output_type": "display_data"
    }
   ],
   "source": [
    "#Seleccionamos la segunda columna\n",
    "M[,2]"
   ]
  },
  {
   "cell_type": "code",
   "execution_count": 44,
   "id": "a36f0be4",
   "metadata": {},
   "outputs": [
    {
     "data": {
      "text/html": [
       "<table class=\"dataframe\">\n",
       "<caption>A matrix: 3 × 3 of type dbl</caption>\n",
       "<thead>\n",
       "\t<tr><th></th><th scope=col>Columna1</th><th scope=col>Columna2</th><th scope=col>Columna3</th></tr>\n",
       "</thead>\n",
       "<tbody>\n",
       "\t<tr><th scope=row>Ob3</th><td> 2</td><td> 5</td><td> 8</td></tr>\n",
       "\t<tr><th scope=row>Ob4</th><td> 3</td><td> 6</td><td> 9</td></tr>\n",
       "\t<tr><th scope=row>Ob5</th><td>10</td><td>10</td><td>10</td></tr>\n",
       "</tbody>\n",
       "</table>\n"
      ],
      "text/latex": [
       "A matrix: 3 × 3 of type dbl\n",
       "\\begin{tabular}{r|lll}\n",
       "  & Columna1 & Columna2 & Columna3\\\\\n",
       "\\hline\n",
       "\tOb3 &  2 &  5 &  8\\\\\n",
       "\tOb4 &  3 &  6 &  9\\\\\n",
       "\tOb5 & 10 & 10 & 10\\\\\n",
       "\\end{tabular}\n"
      ],
      "text/markdown": [
       "\n",
       "A matrix: 3 × 3 of type dbl\n",
       "\n",
       "| <!--/--> | Columna1 | Columna2 | Columna3 |\n",
       "|---|---|---|---|\n",
       "| Ob3 |  2 |  5 |  8 |\n",
       "| Ob4 |  3 |  6 |  9 |\n",
       "| Ob5 | 10 | 10 | 10 |\n",
       "\n"
      ],
      "text/plain": [
       "    Columna1 Columna2 Columna3\n",
       "Ob3  2        5        8      \n",
       "Ob4  3        6        9      \n",
       "Ob5 10       10       10      "
      ]
     },
     "metadata": {},
     "output_type": "display_data"
    }
   ],
   "source": [
    "#Seleccionamos un rango de observaciones\n",
    "M[2:4,]"
   ]
  },
  {
   "cell_type": "code",
   "execution_count": 45,
   "id": "dee259db",
   "metadata": {},
   "outputs": [
    {
     "data": {
      "text/html": [
       "<table class=\"dataframe\">\n",
       "<caption>A matrix: 3 × 2 of type dbl</caption>\n",
       "<thead>\n",
       "\t<tr><th></th><th scope=col>Columna1</th><th scope=col>Columna3</th></tr>\n",
       "</thead>\n",
       "<tbody>\n",
       "\t<tr><th scope=row>Ob3</th><td> 2</td><td> 8</td></tr>\n",
       "\t<tr><th scope=row>Ob4</th><td> 3</td><td> 9</td></tr>\n",
       "\t<tr><th scope=row>Ob5</th><td>10</td><td>10</td></tr>\n",
       "</tbody>\n",
       "</table>\n"
      ],
      "text/latex": [
       "A matrix: 3 × 2 of type dbl\n",
       "\\begin{tabular}{r|ll}\n",
       "  & Columna1 & Columna3\\\\\n",
       "\\hline\n",
       "\tOb3 &  2 &  8\\\\\n",
       "\tOb4 &  3 &  9\\\\\n",
       "\tOb5 & 10 & 10\\\\\n",
       "\\end{tabular}\n"
      ],
      "text/markdown": [
       "\n",
       "A matrix: 3 × 2 of type dbl\n",
       "\n",
       "| <!--/--> | Columna1 | Columna3 |\n",
       "|---|---|---|\n",
       "| Ob3 |  2 |  8 |\n",
       "| Ob4 |  3 |  9 |\n",
       "| Ob5 | 10 | 10 |\n",
       "\n"
      ],
      "text/plain": [
       "    Columna1 Columna3\n",
       "Ob3  2        8      \n",
       "Ob4  3        9      \n",
       "Ob5 10       10      "
      ]
     },
     "metadata": {},
     "output_type": "display_data"
    }
   ],
   "source": [
    "#Seleccionamos ciertas columnas\n",
    "M[2:4,c('Columna1','Columna3')]"
   ]
  },
  {
   "cell_type": "code",
   "execution_count": 49,
   "id": "db21a61b",
   "metadata": {},
   "outputs": [
    {
     "data": {
      "text/html": [
       "<table class=\"dataframe\">\n",
       "<caption>A matrix: 2 × 3 of type dbl</caption>\n",
       "<thead>\n",
       "\t<tr><th></th><th scope=col>Columna1</th><th scope=col>Columna2</th><th scope=col>Columna3</th></tr>\n",
       "</thead>\n",
       "<tbody>\n",
       "\t<tr><th scope=row>Ob4</th><td> 3</td><td> 6</td><td> 9</td></tr>\n",
       "\t<tr><th scope=row>Ob5</th><td>10</td><td>10</td><td>10</td></tr>\n",
       "</tbody>\n",
       "</table>\n"
      ],
      "text/latex": [
       "A matrix: 2 × 3 of type dbl\n",
       "\\begin{tabular}{r|lll}\n",
       "  & Columna1 & Columna2 & Columna3\\\\\n",
       "\\hline\n",
       "\tOb4 &  3 &  6 &  9\\\\\n",
       "\tOb5 & 10 & 10 & 10\\\\\n",
       "\\end{tabular}\n"
      ],
      "text/markdown": [
       "\n",
       "A matrix: 2 × 3 of type dbl\n",
       "\n",
       "| <!--/--> | Columna1 | Columna2 | Columna3 |\n",
       "|---|---|---|---|\n",
       "| Ob4 |  3 |  6 |  9 |\n",
       "| Ob5 | 10 | 10 | 10 |\n",
       "\n"
      ],
      "text/plain": [
       "    Columna1 Columna2 Columna3\n",
       "Ob4  3        6        9      \n",
       "Ob5 10       10       10      "
      ]
     },
     "metadata": {},
     "output_type": "display_data"
    }
   ],
   "source": [
    "#Indexado booleano\n",
    "#Imagina que queremos un subdataframe\n",
    "#De las observaciones cuya columna 1 sea mayor o igual a 3\n",
    "M[M[,1]>=3,]"
   ]
  },
  {
   "cell_type": "code",
   "execution_count": 46,
   "id": "967e7580",
   "metadata": {},
   "outputs": [
    {
     "data": {
      "text/html": [
       "<table class=\"dataframe\">\n",
       "<caption>A matrix: 4 × 3 of type dbl</caption>\n",
       "<tbody>\n",
       "\t<tr><td>0</td><td>0</td><td>0</td></tr>\n",
       "\t<tr><td>0</td><td>0</td><td>0</td></tr>\n",
       "\t<tr><td>0</td><td>0</td><td>0</td></tr>\n",
       "\t<tr><td>0</td><td>0</td><td>0</td></tr>\n",
       "</tbody>\n",
       "</table>\n"
      ],
      "text/latex": [
       "A matrix: 4 × 3 of type dbl\n",
       "\\begin{tabular}{lll}\n",
       "\t 0 & 0 & 0\\\\\n",
       "\t 0 & 0 & 0\\\\\n",
       "\t 0 & 0 & 0\\\\\n",
       "\t 0 & 0 & 0\\\\\n",
       "\\end{tabular}\n"
      ],
      "text/markdown": [
       "\n",
       "A matrix: 4 × 3 of type dbl\n",
       "\n",
       "| 0 | 0 | 0 |\n",
       "| 0 | 0 | 0 |\n",
       "| 0 | 0 | 0 |\n",
       "| 0 | 0 | 0 |\n",
       "\n"
      ],
      "text/plain": [
       "     [,1] [,2] [,3]\n",
       "[1,] 0    0    0   \n",
       "[2,] 0    0    0   \n",
       "[3,] 0    0    0   \n",
       "[4,] 0    0    0   "
      ]
     },
     "metadata": {},
     "output_type": "display_data"
    }
   ],
   "source": [
    "#Podemos crear una matriz de ceros\n",
    "matrix(0,4,3)"
   ]
  },
  {
   "cell_type": "code",
   "execution_count": 48,
   "id": "6dbcd936",
   "metadata": {},
   "outputs": [
    {
     "data": {
      "text/html": [
       "<style>\n",
       ".list-inline {list-style: none; margin:0; padding: 0}\n",
       ".list-inline>li {display: inline-block}\n",
       ".list-inline>li:not(:last-child)::after {content: \"\\00b7\"; padding: 0 .5ex}\n",
       "</style>\n",
       "<ol class=list-inline><li>0</li><li>0</li><li>0</li></ol>\n"
      ],
      "text/latex": [
       "\\begin{enumerate*}\n",
       "\\item 0\n",
       "\\item 0\n",
       "\\item 0\n",
       "\\end{enumerate*}\n"
      ],
      "text/markdown": [
       "1. 0\n",
       "2. 0\n",
       "3. 0\n",
       "\n",
       "\n"
      ],
      "text/plain": [
       "[1] 0 0 0"
      ]
     },
     "metadata": {},
     "output_type": "display_data"
    }
   ],
   "source": [
    "#Un vector de ceros\n",
    "numeric(3)\n"
   ]
  },
  {
   "cell_type": "code",
   "execution_count": null,
   "id": "2e750b2c",
   "metadata": {},
   "outputs": [],
   "source": [
    "#Se puede sacar covarianza entre columnas, correlacion\n"
   ]
  },
  {
   "cell_type": "code",
   "execution_count": 50,
   "id": "8e5c8495",
   "metadata": {},
   "outputs": [
    {
     "data": {
      "text/html": [
       "<style>\n",
       ".dl-inline {width: auto; margin:0; padding: 0}\n",
       ".dl-inline>dt, .dl-inline>dd {float: none; width: auto; display: inline-block}\n",
       ".dl-inline>dt::after {content: \":\\0020\"; padding-right: .5ex}\n",
       ".dl-inline>dt:not(:first-of-type) {padding-left: .5ex}\n",
       "</style><dl class=dl-inline><dt>Columna1</dt><dd>16</dd><dt>Columna2</dt><dd>25</dd><dt>Columna3</dt><dd>34</dd></dl>\n"
      ],
      "text/latex": [
       "\\begin{description*}\n",
       "\\item[Columna1] 16\n",
       "\\item[Columna2] 25\n",
       "\\item[Columna3] 34\n",
       "\\end{description*}\n"
      ],
      "text/markdown": [
       "Columna1\n",
       ":   16Columna2\n",
       ":   25Columna3\n",
       ":   34\n",
       "\n"
      ],
      "text/plain": [
       "Columna1 Columna2 Columna3 \n",
       "      16       25       34 "
      ]
     },
     "metadata": {},
     "output_type": "display_data"
    }
   ],
   "source": [
    "#Podemos sacar suma por columnas, media\n",
    "colSums(M)"
   ]
  },
  {
   "cell_type": "code",
   "execution_count": 51,
   "id": "b8722168",
   "metadata": {},
   "outputs": [
    {
     "data": {
      "text/html": [
       "<style>\n",
       ".dl-inline {width: auto; margin:0; padding: 0}\n",
       ".dl-inline>dt, .dl-inline>dd {float: none; width: auto; display: inline-block}\n",
       ".dl-inline>dt::after {content: \":\\0020\"; padding-right: .5ex}\n",
       ".dl-inline>dt:not(:first-of-type) {padding-left: .5ex}\n",
       "</style><dl class=dl-inline><dt>Columna1</dt><dd>4</dd><dt>Columna2</dt><dd>6.25</dd><dt>Columna3</dt><dd>8.5</dd></dl>\n"
      ],
      "text/latex": [
       "\\begin{description*}\n",
       "\\item[Columna1] 4\n",
       "\\item[Columna2] 6.25\n",
       "\\item[Columna3] 8.5\n",
       "\\end{description*}\n"
      ],
      "text/markdown": [
       "Columna1\n",
       ":   4Columna2\n",
       ":   6.25Columna3\n",
       ":   8.5\n",
       "\n"
      ],
      "text/plain": [
       "Columna1 Columna2 Columna3 \n",
       "    4.00     6.25     8.50 "
      ]
     },
     "metadata": {},
     "output_type": "display_data"
    }
   ],
   "source": [
    "#Media\n",
    "colMeans(M)"
   ]
  },
  {
   "cell_type": "markdown",
   "id": "bc7c92b9",
   "metadata": {},
   "source": [
    "# Sistemas Lineales"
   ]
  },
  {
   "cell_type": "code",
   "execution_count": null,
   "id": "6fe7d0ce",
   "metadata": {},
   "outputs": [],
   "source": []
  }
 ],
 "metadata": {
  "kernelspec": {
   "display_name": "R",
   "language": "R",
   "name": "ir"
  },
  "language_info": {
   "codemirror_mode": "r",
   "file_extension": ".r",
   "mimetype": "text/x-r-source",
   "name": "R",
   "pygments_lexer": "r",
   "version": "3.6.1"
  }
 },
 "nbformat": 4,
 "nbformat_minor": 5
}
