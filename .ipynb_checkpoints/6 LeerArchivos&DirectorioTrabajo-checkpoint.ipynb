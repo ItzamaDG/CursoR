{
 "cells": [
  {
   "cell_type": "code",
   "execution_count": 1,
   "id": "6651348a",
   "metadata": {},
   "outputs": [
    {
     "data": {
      "text/html": [
       "'C:/Users/itzam/Desktop/ITAM/CursoR'"
      ],
      "text/latex": [
       "'C:/Users/itzam/Desktop/ITAM/CursoR'"
      ],
      "text/markdown": [
       "'C:/Users/itzam/Desktop/ITAM/CursoR'"
      ],
      "text/plain": [
       "[1] \"C:/Users/itzam/Desktop/ITAM/CursoR\""
      ]
     },
     "metadata": {},
     "output_type": "display_data"
    }
   ],
   "source": [
    "#Obtenemos el directorio de trabajo\n",
    "getwd()"
   ]
  },
  {
   "cell_type": "code",
   "execution_count": 3,
   "id": "e57ebffe",
   "metadata": {},
   "outputs": [],
   "source": [
    "#Lo cambiamos\n",
    "setwd(\"C:\\\\Users\\\\itzam\\\\Desktop\\\\ITAM\\\\PythonML\\\\python-ml-course-master\\\\datasets\\\\ads\")"
   ]
  },
  {
   "cell_type": "code",
   "execution_count": 5,
   "id": "c20f332b",
   "metadata": {},
   "outputs": [],
   "source": [
    "mi_archivo <- read.csv('Advertising.csv',header = TRUE,sep = ',',stringsAsFactors=FALSE)\n",
    "#Header le digo si el archivo contiene o no el nombre de las columnas\n",
    "#Indico el separador"
   ]
  },
  {
   "cell_type": "code",
   "execution_count": 7,
   "id": "51b08c37",
   "metadata": {},
   "outputs": [
    {
     "data": {
      "text/html": [
       "<table class=\"dataframe\">\n",
       "<caption>A data.frame: 2 × 4</caption>\n",
       "<thead>\n",
       "\t<tr><th></th><th scope=col>TV</th><th scope=col>Radio</th><th scope=col>Newspaper</th><th scope=col>Sales</th></tr>\n",
       "\t<tr><th></th><th scope=col>&lt;dbl&gt;</th><th scope=col>&lt;dbl&gt;</th><th scope=col>&lt;dbl&gt;</th><th scope=col>&lt;dbl&gt;</th></tr>\n",
       "</thead>\n",
       "<tbody>\n",
       "\t<tr><th scope=row>1</th><td>230.1</td><td>37.8</td><td>69.2</td><td>22.1</td></tr>\n",
       "\t<tr><th scope=row>2</th><td> 44.5</td><td>39.3</td><td>45.1</td><td>10.4</td></tr>\n",
       "</tbody>\n",
       "</table>\n"
      ],
      "text/latex": [
       "A data.frame: 2 × 4\n",
       "\\begin{tabular}{r|llll}\n",
       "  & TV & Radio & Newspaper & Sales\\\\\n",
       "  & <dbl> & <dbl> & <dbl> & <dbl>\\\\\n",
       "\\hline\n",
       "\t1 & 230.1 & 37.8 & 69.2 & 22.1\\\\\n",
       "\t2 &  44.5 & 39.3 & 45.1 & 10.4\\\\\n",
       "\\end{tabular}\n"
      ],
      "text/markdown": [
       "\n",
       "A data.frame: 2 × 4\n",
       "\n",
       "| <!--/--> | TV &lt;dbl&gt; | Radio &lt;dbl&gt; | Newspaper &lt;dbl&gt; | Sales &lt;dbl&gt; |\n",
       "|---|---|---|---|---|\n",
       "| 1 | 230.1 | 37.8 | 69.2 | 22.1 |\n",
       "| 2 |  44.5 | 39.3 | 45.1 | 10.4 |\n",
       "\n"
      ],
      "text/plain": [
       "  TV    Radio Newspaper Sales\n",
       "1 230.1 37.8  69.2      22.1 \n",
       "2  44.5 39.3  45.1      10.4 "
      ]
     },
     "metadata": {},
     "output_type": "display_data"
    }
   ],
   "source": [
    "head(mi_archivo,2)"
   ]
  },
  {
   "cell_type": "code",
   "execution_count": 9,
   "id": "07787527",
   "metadata": {},
   "outputs": [
    {
     "data": {
      "text/html": [
       "'C:\\\\Users\\\\itzam\\\\Desktop\\\\ITAM\\\\PythonML\\\\python-ml-course-master\\\\datasets\\\\ads\\\\Advertising.csv'"
      ],
      "text/latex": [
       "'C:\\textbackslash{}\\textbackslash{}Users\\textbackslash{}\\textbackslash{}itzam\\textbackslash{}\\textbackslash{}Desktop\\textbackslash{}\\textbackslash{}ITAM\\textbackslash{}\\textbackslash{}PythonML\\textbackslash{}\\textbackslash{}python-ml-course-master\\textbackslash{}\\textbackslash{}datasets\\textbackslash{}\\textbackslash{}ads\\textbackslash{}\\textbackslash{}Advertising.csv'"
      ],
      "text/markdown": [
       "'C:\\\\Users\\\\itzam\\\\Desktop\\\\ITAM\\\\PythonML\\\\python-ml-course-master\\\\datasets\\\\ads\\\\Advertising.csv'"
      ],
      "text/plain": [
       "[1] \"C:\\\\Users\\\\itzam\\\\Desktop\\\\ITAM\\\\PythonML\\\\python-ml-course-master\\\\datasets\\\\ads\\\\Advertising.csv\""
      ]
     },
     "metadata": {},
     "output_type": "display_data"
    }
   ],
   "source": [
    "#file.choose()\n",
    "#Esta muy buena\n",
    "file.choose()\n",
    "#Se abre una ventana y me dice la dirección"
   ]
  },
  {
   "cell_type": "markdown",
   "id": "280f878d",
   "metadata": {},
   "source": [
    "# Leer XLS"
   ]
  },
  {
   "cell_type": "code",
   "execution_count": 10,
   "id": "0506e11d",
   "metadata": {},
   "outputs": [
    {
     "name": "stdout",
     "output_type": "stream",
     "text": [
      "package 'readxl' successfully unpacked and MD5 sums checked\n",
      "\n",
      "The downloaded binary packages are in\n",
      "\tC:\\Users\\itzam\\AppData\\Local\\Temp\\RtmpIPlrpi\\downloaded_packages\n"
     ]
    }
   ],
   "source": [
    "install.packages('readxl')"
   ]
  },
  {
   "cell_type": "code",
   "execution_count": 11,
   "id": "90601837",
   "metadata": {},
   "outputs": [
    {
     "name": "stderr",
     "output_type": "stream",
     "text": [
      "Warning message:\n",
      "\"package 'readxl' was built under R version 3.6.3\""
     ]
    }
   ],
   "source": [
    "library(readxl)"
   ]
  },
  {
   "cell_type": "code",
   "execution_count": 13,
   "id": "045e6c52",
   "metadata": {},
   "outputs": [],
   "source": [
    "setwd(\"C:\\\\Users\\\\itzam\\\\Desktop\\\\ITAM\\\\PythonML\\\\python-ml-course-master\\\\datasets\")\n"
   ]
  },
  {
   "cell_type": "code",
   "execution_count": 14,
   "id": "1f933d7a",
   "metadata": {},
   "outputs": [
    {
     "data": {
      "text/html": [
       "<style>\n",
       ".list-inline {list-style: none; margin:0; padding: 0}\n",
       ".list-inline>li {display: inline-block}\n",
       ".list-inline>li:not(:last-child)::after {content: \"\\00b7\"; padding: 0 .5ex}\n",
       "</style>\n",
       "<ol class=list-inline><li>'Hoja1'</li><li>'Hoja2'</li><li>'Hoja3'</li></ol>\n"
      ],
      "text/latex": [
       "\\begin{enumerate*}\n",
       "\\item 'Hoja1'\n",
       "\\item 'Hoja2'\n",
       "\\item 'Hoja3'\n",
       "\\end{enumerate*}\n"
      ],
      "text/markdown": [
       "1. 'Hoja1'\n",
       "2. 'Hoja2'\n",
       "3. 'Hoja3'\n",
       "\n",
       "\n"
      ],
      "text/plain": [
       "[1] \"Hoja1\" \"Hoja2\" \"Hoja3\""
      ]
     },
     "metadata": {},
     "output_type": "display_data"
    }
   ],
   "source": [
    "excel_sheets(\"gapminder_importar_a_r.xlsx\")"
   ]
  },
  {
   "cell_type": "code",
   "execution_count": 16,
   "id": "3b872f84",
   "metadata": {},
   "outputs": [
    {
     "data": {
      "text/html": [
       "<table class=\"dataframe\">\n",
       "<caption>A tibble: 6 × 4</caption>\n",
       "<thead>\n",
       "\t<tr><th scope=col>pais</th><th scope=col>anio</th><th scope=col>esperanza_de_vida</th><th scope=col>poblacion</th></tr>\n",
       "\t<tr><th scope=col>&lt;chr&gt;</th><th scope=col>&lt;dbl&gt;</th><th scope=col>&lt;dbl&gt;</th><th scope=col>&lt;dbl&gt;</th></tr>\n",
       "</thead>\n",
       "<tbody>\n",
       "\t<tr><td>Argentina</td><td>2007</td><td>75.320</td><td> 40301927</td></tr>\n",
       "\t<tr><td>Brasil   </td><td>2007</td><td>72.390</td><td>190010647</td></tr>\n",
       "\t<tr><td>Chile    </td><td>2007</td><td>78.553</td><td> 16284741</td></tr>\n",
       "\t<tr><td>Colombia </td><td>2007</td><td>72.889</td><td> 44227550</td></tr>\n",
       "\t<tr><td>Ecuador  </td><td>2007</td><td>74.994</td><td> 13755680</td></tr>\n",
       "\t<tr><td>Mexico   </td><td>2007</td><td>76.195</td><td>108700891</td></tr>\n",
       "</tbody>\n",
       "</table>\n"
      ],
      "text/latex": [
       "A tibble: 6 × 4\n",
       "\\begin{tabular}{llll}\n",
       " pais & anio & esperanza\\_de\\_vida & poblacion\\\\\n",
       " <chr> & <dbl> & <dbl> & <dbl>\\\\\n",
       "\\hline\n",
       "\t Argentina & 2007 & 75.320 &  40301927\\\\\n",
       "\t Brasil    & 2007 & 72.390 & 190010647\\\\\n",
       "\t Chile     & 2007 & 78.553 &  16284741\\\\\n",
       "\t Colombia  & 2007 & 72.889 &  44227550\\\\\n",
       "\t Ecuador   & 2007 & 74.994 &  13755680\\\\\n",
       "\t Mexico    & 2007 & 76.195 & 108700891\\\\\n",
       "\\end{tabular}\n"
      ],
      "text/markdown": [
       "\n",
       "A tibble: 6 × 4\n",
       "\n",
       "| pais &lt;chr&gt; | anio &lt;dbl&gt; | esperanza_de_vida &lt;dbl&gt; | poblacion &lt;dbl&gt; |\n",
       "|---|---|---|---|\n",
       "| Argentina | 2007 | 75.320 |  40301927 |\n",
       "| Brasil    | 2007 | 72.390 | 190010647 |\n",
       "| Chile     | 2007 | 78.553 |  16284741 |\n",
       "| Colombia  | 2007 | 72.889 |  44227550 |\n",
       "| Ecuador   | 2007 | 74.994 |  13755680 |\n",
       "| Mexico    | 2007 | 76.195 | 108700891 |\n",
       "\n"
      ],
      "text/plain": [
       "  pais      anio esperanza_de_vida poblacion\n",
       "1 Argentina 2007 75.320             40301927\n",
       "2 Brasil    2007 72.390            190010647\n",
       "3 Chile     2007 78.553             16284741\n",
       "4 Colombia  2007 72.889             44227550\n",
       "5 Ecuador   2007 74.994             13755680\n",
       "6 Mexico    2007 76.195            108700891"
      ]
     },
     "metadata": {},
     "output_type": "display_data"
    }
   ],
   "source": [
    "#Suponemos que los datos están en la primer hoja\n",
    "#Y empiezan en la celda a1\n",
    "df1 <-read_excel(\"gapminder_importar_a_r.xlsx\")\n",
    "head(df1)"
   ]
  },
  {
   "cell_type": "code",
   "execution_count": 23,
   "id": "0dda6c5b",
   "metadata": {},
   "outputs": [
    {
     "data": {
      "text/html": [
       "<table class=\"dataframe\">\n",
       "<caption>A tibble: 6 × 4</caption>\n",
       "<thead>\n",
       "\t<tr><th scope=col>pais</th><th scope=col>anio</th><th scope=col>esperanza_de_vida</th><th scope=col>poblacion</th></tr>\n",
       "\t<tr><th scope=col>&lt;chr&gt;</th><th scope=col>&lt;dbl&gt;</th><th scope=col>&lt;dbl&gt;</th><th scope=col>&lt;dbl&gt;</th></tr>\n",
       "</thead>\n",
       "<tbody>\n",
       "\t<tr><td>Argentina</td><td>2007</td><td>75.320</td><td> 40301927</td></tr>\n",
       "\t<tr><td>Brasil   </td><td>2007</td><td>72.390</td><td>190010647</td></tr>\n",
       "\t<tr><td>Chile    </td><td>2007</td><td>78.553</td><td> 16284741</td></tr>\n",
       "\t<tr><td>Colombia </td><td>2007</td><td>72.889</td><td> 44227550</td></tr>\n",
       "\t<tr><td>Ecuador  </td><td>2007</td><td>74.994</td><td> 13755680</td></tr>\n",
       "\t<tr><td>Mexico   </td><td>2007</td><td>76.195</td><td>108700891</td></tr>\n",
       "</tbody>\n",
       "</table>\n"
      ],
      "text/latex": [
       "A tibble: 6 × 4\n",
       "\\begin{tabular}{llll}\n",
       " pais & anio & esperanza\\_de\\_vida & poblacion\\\\\n",
       " <chr> & <dbl> & <dbl> & <dbl>\\\\\n",
       "\\hline\n",
       "\t Argentina & 2007 & 75.320 &  40301927\\\\\n",
       "\t Brasil    & 2007 & 72.390 & 190010647\\\\\n",
       "\t Chile     & 2007 & 78.553 &  16284741\\\\\n",
       "\t Colombia  & 2007 & 72.889 &  44227550\\\\\n",
       "\t Ecuador   & 2007 & 74.994 &  13755680\\\\\n",
       "\t Mexico    & 2007 & 76.195 & 108700891\\\\\n",
       "\\end{tabular}\n"
      ],
      "text/markdown": [
       "\n",
       "A tibble: 6 × 4\n",
       "\n",
       "| pais &lt;chr&gt; | anio &lt;dbl&gt; | esperanza_de_vida &lt;dbl&gt; | poblacion &lt;dbl&gt; |\n",
       "|---|---|---|---|\n",
       "| Argentina | 2007 | 75.320 |  40301927 |\n",
       "| Brasil    | 2007 | 72.390 | 190010647 |\n",
       "| Chile     | 2007 | 78.553 |  16284741 |\n",
       "| Colombia  | 2007 | 72.889 |  44227550 |\n",
       "| Ecuador   | 2007 | 74.994 |  13755680 |\n",
       "| Mexico    | 2007 | 76.195 | 108700891 |\n",
       "\n"
      ],
      "text/plain": [
       "  pais      anio esperanza_de_vida poblacion\n",
       "1 Argentina 2007 75.320             40301927\n",
       "2 Brasil    2007 72.390            190010647\n",
       "3 Chile     2007 78.553             16284741\n",
       "4 Colombia  2007 72.889             44227550\n",
       "5 Ecuador   2007 74.994             13755680\n",
       "6 Mexico    2007 76.195            108700891"
      ]
     },
     "metadata": {},
     "output_type": "display_data"
    }
   ],
   "source": [
    "#Si le tengo que indicar la hoja\n",
    "df2 <-read_excel(\"gapminder_importar_a_r.xlsx\",sheet = 'Hoja3',\n",
    "                range = 'c7:f17')\n",
    "#el rango son las esquinas superior izquierda \n",
    "#e ingerior derecha\n",
    "#Le digo el nombre de la hoja\n",
    "head(df2)"
   ]
  },
  {
   "cell_type": "code",
   "execution_count": 25,
   "id": "8ae1512d",
   "metadata": {},
   "outputs": [
    {
     "data": {
      "text/html": [
       "<table class=\"dataframe\">\n",
       "<caption>A data.frame: 6 × 1</caption>\n",
       "<thead>\n",
       "\t<tr><th></th><th scope=col>X..DOCTYPE.html.</th></tr>\n",
       "\t<tr><th></th><th scope=col>&lt;fct&gt;</th></tr>\n",
       "</thead>\n",
       "<tbody>\n",
       "\t<tr><th scope=row>1</th><td>&lt;html lang=en data-color-mode=auto data-light-theme=light data-dark-theme=dark&gt;</td></tr>\n",
       "\t<tr><th scope=row>2</th><td><span style=white-space:pre-wrap>  &lt;head&gt;                                                                       </span></td></tr>\n",
       "\t<tr><th scope=row>3</th><td><span style=white-space:pre-wrap>    &lt;meta charset=utf-8&gt;                                                       </span></td></tr>\n",
       "\t<tr><th scope=row>4</th><td><span style=white-space:pre-wrap>  &lt;link rel=dns-prefetch href=https://github.githubassets.com&gt;                 </span></td></tr>\n",
       "\t<tr><th scope=row>5</th><td><span style=white-space:pre-wrap>  &lt;link rel=dns-prefetch href=https://avatars.githubusercontent.com&gt;           </span></td></tr>\n",
       "\t<tr><th scope=row>6</th><td><span style=white-space:pre-wrap>  &lt;link rel=dns-prefetch href=https://github-cloud.s3.amazonaws.com&gt;           </span></td></tr>\n",
       "</tbody>\n",
       "</table>\n"
      ],
      "text/latex": [
       "A data.frame: 6 × 1\n",
       "\\begin{tabular}{r|l}\n",
       "  & X..DOCTYPE.html.\\\\\n",
       "  & <fct>\\\\\n",
       "\\hline\n",
       "\t1 & <html lang=en data-color-mode=auto data-light-theme=light data-dark-theme=dark>\\\\\n",
       "\t2 &   <head>                                                                       \\\\\n",
       "\t3 &     <meta charset=utf-8>                                                       \\\\\n",
       "\t4 &   <link rel=dns-prefetch href=https://github.githubassets.com>                 \\\\\n",
       "\t5 &   <link rel=dns-prefetch href=https://avatars.githubusercontent.com>           \\\\\n",
       "\t6 &   <link rel=dns-prefetch href=https://github-cloud.s3.amazonaws.com>           \\\\\n",
       "\\end{tabular}\n"
      ],
      "text/markdown": [
       "\n",
       "A data.frame: 6 × 1\n",
       "\n",
       "| <!--/--> | X..DOCTYPE.html. &lt;fct&gt; |\n",
       "|---|---|\n",
       "| 1 | &lt;html lang=en data-color-mode=auto data-light-theme=light data-dark-theme=dark&gt; |\n",
       "| 2 |   &lt;head&gt;                                                                        |\n",
       "| 3 |     &lt;meta charset=utf-8&gt;                                                        |\n",
       "| 4 |   &lt;link rel=dns-prefetch href=https://github.githubassets.com&gt;                  |\n",
       "| 5 |   &lt;link rel=dns-prefetch href=https://avatars.githubusercontent.com&gt;            |\n",
       "| 6 |   &lt;link rel=dns-prefetch href=https://github-cloud.s3.amazonaws.com&gt;            |\n",
       "\n"
      ],
      "text/plain": [
       "  X..DOCTYPE.html.                                                               \n",
       "1 <html lang=en data-color-mode=auto data-light-theme=light data-dark-theme=dark>\n",
       "2   <head>                                                                       \n",
       "3     <meta charset=utf-8>                                                       \n",
       "4   <link rel=dns-prefetch href=https://github.githubassets.com>                 \n",
       "5   <link rel=dns-prefetch href=https://avatars.githubusercontent.com>           \n",
       "6   <link rel=dns-prefetch href=https://github-cloud.s3.amazonaws.com>           "
      ]
     },
     "metadata": {},
     "output_type": "display_data"
    }
   ],
   "source": [
    "#Como leer un archivo desde un repositorio\n",
    "x<- read.csv('https://github.com/ItzamaDG/CursoR/blob/main/Advertising.csv')\n",
    "head(x)\n",
    "#No pude, arreglar."
   ]
  },
  {
   "cell_type": "code",
   "execution_count": null,
   "id": "9ba44753",
   "metadata": {},
   "outputs": [],
   "source": []
  }
 ],
 "metadata": {
  "kernelspec": {
   "display_name": "R",
   "language": "R",
   "name": "ir"
  },
  "language_info": {
   "codemirror_mode": "r",
   "file_extension": ".r",
   "mimetype": "text/x-r-source",
   "name": "R",
   "pygments_lexer": "r",
   "version": "3.6.1"
  }
 },
 "nbformat": 4,
 "nbformat_minor": 5
}
