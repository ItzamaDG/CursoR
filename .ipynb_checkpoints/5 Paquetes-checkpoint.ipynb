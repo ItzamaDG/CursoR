{
 "cells": [
  {
   "cell_type": "code",
   "execution_count": null,
   "id": "4dbd0fb8",
   "metadata": {},
   "outputs": [],
   "source": [
    "#Funcion que sirve para instalar un paquete de no estar\n",
    "usePackage <- function(p) \n",
    "{\n",
    "  if (!is.element(p, installed.packages()[,1]))\n",
    "    install.packages(p, repos = \"https://cran.itam.mx/\")\n",
    "  suppressPackageStartupMessages(require(p, character.only = TRUE, quietly  = TRUE))\n",
    "}"
   ]
  },
  {
   "cell_type": "code",
   "execution_count": null,
   "id": "96d64042",
   "metadata": {},
   "outputs": [],
   "source": [
    "#usePackage('resample')\n",
    "#library(resample)"
   ]
  }
 ],
 "metadata": {
  "kernelspec": {
   "display_name": "R",
   "language": "R",
   "name": "ir"
  },
  "language_info": {
   "codemirror_mode": "r",
   "file_extension": ".r",
   "mimetype": "text/x-r-source",
   "name": "R",
   "pygments_lexer": "r",
   "version": "3.6.1"
  }
 },
 "nbformat": 4,
 "nbformat_minor": 5
}
