{
 "cells": [
  {
   "cell_type": "code",
   "execution_count": 1,
   "id": "16489f0d",
   "metadata": {},
   "outputs": [
    {
     "name": "stderr",
     "output_type": "stream",
     "text": [
      "also installing the dependencies 'xfun', 'tinytex'\n",
      "\n"
     ]
    },
    {
     "name": "stdout",
     "output_type": "stream",
     "text": [
      "\n",
      "  There are binary versions available but the source versions are later:\n",
      "          binary source needs_compilation\n",
      "xfun        0.22   0.25              TRUE\n",
      "tinytex     0.31   0.33             FALSE\n",
      "rmarkdown    2.8   2.10             FALSE\n",
      "\n",
      "  Binaries will be installed\n",
      "package 'xfun' successfully unpacked and MD5 sums checked\n",
      "\n",
      "The downloaded binary packages are in\n",
      "\tC:\\Users\\itzam\\AppData\\Local\\Temp\\RtmpobGk3P\\downloaded_packages\n"
     ]
    },
    {
     "name": "stderr",
     "output_type": "stream",
     "text": [
      "installing the source packages 'tinytex', 'rmarkdown'\n",
      "\n",
      "Warning message in install.packages(\"rmarkdown\"):\n",
      "\"installation of package 'tinytex' had non-zero exit status\""
     ]
    }
   ],
   "source": [
    "install.packages(\"rmarkdown\")\n",
    "library(rmarkdown)"
   ]
  },
  {
   "cell_type": "code",
   "execution_count": null,
   "id": "663e0d46",
   "metadata": {},
   "outputs": [],
   "source": []
  }
 ],
 "metadata": {
  "kernelspec": {
   "display_name": "R",
   "language": "R",
   "name": "ir"
  },
  "language_info": {
   "codemirror_mode": "r",
   "file_extension": ".r",
   "mimetype": "text/x-r-source",
   "name": "R",
   "pygments_lexer": "r",
   "version": "3.6.1"
  }
 },
 "nbformat": 4,
 "nbformat_minor": 5
}
