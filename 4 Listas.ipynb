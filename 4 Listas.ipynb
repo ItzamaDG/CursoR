{
 "cells": [
  {
   "cell_type": "code",
   "execution_count": 1,
   "id": "ea4910df",
   "metadata": {},
   "outputs": [],
   "source": [
    "nombre <- c(\"Shrek\", \"Shrek 2\", \"Shrek Tercero\", \"Shrek: Felices por siempre\")\n",
    "puntuacion <- c(7.9, 7.2, 6.1, 6.3)\n",
    "posterior_2005 <- c(FALSE, FALSE, TRUE, TRUE)\n",
    "# informacion estrenos de peliculas. Ver video –> https://bit.ly/2KDKCJE\n",
    "warner <- c(20, 20, 16, 17, 17, 22, 17, 18, 19)\n",
    "disney <- c(11, 13, 11, 8, 12, 11, 12, 8, 10)\n",
    "fox <- c(18, 15, 15, 15, 16, 17, 15, 13, 11)\n",
    "\n",
    "# crear diferentes estructuras de datos en R\n",
    "vector_titulos <- nombre\n",
    "matriz_peliculas <- matrix(c(warner, disney, fox),\n",
    "                    nrow = 9,\n",
    "                    ncol = 3)\n",
    "peliculas_df <- data.frame(nombre,\n",
    "                           puntuacion,\n",
    "                           posterior_2005)\n"
   ]
  },
  {
   "cell_type": "code",
   "execution_count": 4,
   "id": "5381514a",
   "metadata": {},
   "outputs": [],
   "source": [
    "#Una lista es como un diccionario en python\n",
    "lista_curso <- list(vector_titulos, matriz_peliculas)"
   ]
  },
  {
   "cell_type": "code",
   "execution_count": 7,
   "id": "38491e4e",
   "metadata": {},
   "outputs": [],
   "source": [
    "#Renombro para poder acceder a esos elementos\n",
    "#como en un diccioanrio\n",
    "names(lista_curso)<-c('vector','matriz')"
   ]
  },
  {
   "cell_type": "code",
   "execution_count": 10,
   "id": "7878d18a",
   "metadata": {},
   "outputs": [
    {
     "data": {
      "text/html": [
       "<style>\n",
       ".list-inline {list-style: none; margin:0; padding: 0}\n",
       ".list-inline>li {display: inline-block}\n",
       ".list-inline>li:not(:last-child)::after {content: \"\\00b7\"; padding: 0 .5ex}\n",
       "</style>\n",
       "<ol class=list-inline><li>'Shrek'</li><li>'Shrek 2'</li><li>'Shrek Tercero'</li><li>'Shrek: Felices por siempre'</li></ol>\n"
      ],
      "text/latex": [
       "\\begin{enumerate*}\n",
       "\\item 'Shrek'\n",
       "\\item 'Shrek 2'\n",
       "\\item 'Shrek Tercero'\n",
       "\\item 'Shrek: Felices por siempre'\n",
       "\\end{enumerate*}\n"
      ],
      "text/markdown": [
       "1. 'Shrek'\n",
       "2. 'Shrek 2'\n",
       "3. 'Shrek Tercero'\n",
       "4. 'Shrek: Felices por siempre'\n",
       "\n",
       "\n"
      ],
      "text/plain": [
       "[1] \"Shrek\"                      \"Shrek 2\"                   \n",
       "[3] \"Shrek Tercero\"              \"Shrek: Felices por siempre\""
      ]
     },
     "metadata": {},
     "output_type": "display_data"
    }
   ],
   "source": [
    "lista_curso[['vector']]"
   ]
  },
  {
   "cell_type": "code",
   "execution_count": 11,
   "id": "daef029f",
   "metadata": {},
   "outputs": [
    {
     "data": {
      "text/html": [
       "<style>\n",
       ".list-inline {list-style: none; margin:0; padding: 0}\n",
       ".list-inline>li {display: inline-block}\n",
       ".list-inline>li:not(:last-child)::after {content: \"\\00b7\"; padding: 0 .5ex}\n",
       "</style>\n",
       "<ol class=list-inline><li>'Shrek'</li><li>'Shrek 2'</li><li>'Shrek Tercero'</li><li>'Shrek: Felices por siempre'</li></ol>\n"
      ],
      "text/latex": [
       "\\begin{enumerate*}\n",
       "\\item 'Shrek'\n",
       "\\item 'Shrek 2'\n",
       "\\item 'Shrek Tercero'\n",
       "\\item 'Shrek: Felices por siempre'\n",
       "\\end{enumerate*}\n"
      ],
      "text/markdown": [
       "1. 'Shrek'\n",
       "2. 'Shrek 2'\n",
       "3. 'Shrek Tercero'\n",
       "4. 'Shrek: Felices por siempre'\n",
       "\n",
       "\n"
      ],
      "text/plain": [
       "[1] \"Shrek\"                      \"Shrek 2\"                   \n",
       "[3] \"Shrek Tercero\"              \"Shrek: Felices por siempre\""
      ]
     },
     "metadata": {},
     "output_type": "display_data"
    }
   ],
   "source": [
    "lista_curso$vector"
   ]
  },
  {
   "cell_type": "code",
   "execution_count": 14,
   "id": "42755b96",
   "metadata": {},
   "outputs": [],
   "source": [
    "#Agregar elementos a una lista\n",
    "lista_curso$dataFrame <- peliculas_df\n"
   ]
  },
  {
   "cell_type": "code",
   "execution_count": null,
   "id": "515fe7ae",
   "metadata": {},
   "outputs": [],
   "source": [
    "#Eliminar\n",
    "#Para eliminar es como si le asignaramos un null a ese nombre\n",
    "#lista$vector<-null"
   ]
  },
  {
   "cell_type": "code",
   "execution_count": 16,
   "id": "633c3e8d",
   "metadata": {},
   "outputs": [
    {
     "data": {
      "text/html": [
       "<table class=\"dataframe\">\n",
       "<caption>A data.frame: 4 × 3</caption>\n",
       "<thead>\n",
       "\t<tr><th scope=col>nombre</th><th scope=col>puntuacion</th><th scope=col>posterior_2005</th></tr>\n",
       "\t<tr><th scope=col>&lt;fct&gt;</th><th scope=col>&lt;dbl&gt;</th><th scope=col>&lt;lgl&gt;</th></tr>\n",
       "</thead>\n",
       "<tbody>\n",
       "\t<tr><td>Shrek                     </td><td>7.9</td><td>FALSE</td></tr>\n",
       "\t<tr><td>Shrek 2                   </td><td>7.2</td><td>FALSE</td></tr>\n",
       "\t<tr><td>Shrek Tercero             </td><td>6.1</td><td> TRUE</td></tr>\n",
       "\t<tr><td>Shrek: Felices por siempre</td><td>6.3</td><td> TRUE</td></tr>\n",
       "</tbody>\n",
       "</table>\n"
      ],
      "text/latex": [
       "A data.frame: 4 × 3\n",
       "\\begin{tabular}{lll}\n",
       " nombre & puntuacion & posterior\\_2005\\\\\n",
       " <fct> & <dbl> & <lgl>\\\\\n",
       "\\hline\n",
       "\t Shrek                      & 7.9 & FALSE\\\\\n",
       "\t Shrek 2                    & 7.2 & FALSE\\\\\n",
       "\t Shrek Tercero              & 6.1 &  TRUE\\\\\n",
       "\t Shrek: Felices por siempre & 6.3 &  TRUE\\\\\n",
       "\\end{tabular}\n"
      ],
      "text/markdown": [
       "\n",
       "A data.frame: 4 × 3\n",
       "\n",
       "| nombre &lt;fct&gt; | puntuacion &lt;dbl&gt; | posterior_2005 &lt;lgl&gt; |\n",
       "|---|---|---|\n",
       "| Shrek                      | 7.9 | FALSE |\n",
       "| Shrek 2                    | 7.2 | FALSE |\n",
       "| Shrek Tercero              | 6.1 |  TRUE |\n",
       "| Shrek: Felices por siempre | 6.3 |  TRUE |\n",
       "\n"
      ],
      "text/plain": [
       "  nombre                     puntuacion posterior_2005\n",
       "1 Shrek                      7.9        FALSE         \n",
       "2 Shrek 2                    7.2        FALSE         \n",
       "3 Shrek Tercero              6.1         TRUE         \n",
       "4 Shrek: Felices por siempre 6.3         TRUE         "
      ]
     },
     "metadata": {},
     "output_type": "display_data"
    }
   ],
   "source": [
    "lista_curso$dataFrame"
   ]
  },
  {
   "cell_type": "code",
   "execution_count": null,
   "id": "3e143e03",
   "metadata": {},
   "outputs": [],
   "source": []
  }
 ],
 "metadata": {
  "kernelspec": {
   "display_name": "R",
   "language": "R",
   "name": "ir"
  },
  "language_info": {
   "codemirror_mode": "r",
   "file_extension": ".r",
   "mimetype": "text/x-r-source",
   "name": "R",
   "pygments_lexer": "r",
   "version": "3.6.1"
  }
 },
 "nbformat": 4,
 "nbformat_minor": 5
}
